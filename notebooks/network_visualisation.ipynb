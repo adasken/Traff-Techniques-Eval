{
 "cells": [
  {
   "cell_type": "markdown",
   "metadata": {},
   "source": [
    "# Network Visualisation"
   ]
  },
  {
   "cell_type": "code",
   "execution_count": 1,
   "metadata": {},
   "outputs": [],
   "source": [
    "import numpy as np\n",
    "import pandas as pd\n",
    "import matplotlib.pyplot as plt\n",
    "\n",
    "class bcolors:\n",
    "    OK = '\\033[92m\\033[1m' #GREEN\n",
    "    WARNING = '\\033[93m\\033[1m' #YELLOW\n",
    "    FAIL = '\\033[91m' #RED\n",
    "    RESET = '\\033[0m' #RESET COLOR"
   ]
  },
  {
   "cell_type": "code",
   "execution_count": 2,
   "metadata": {},
   "outputs": [
    {
     "name": "stdout",
     "output_type": "stream",
     "text": [
      "\u001b[92m\u001b[1mDataset Name:  METR_LA\u001b[0m\n",
      "METR_LA geo_file size: (207, 3)\n",
      "METR_LA dyna_file size: (7094304, 5)\n",
      "METR_LA rel_file size: (11753, 5)\n"
     ]
    },
    {
     "data": {
      "image/png": "[encoded data removed]",
      "text/plain": [
       "<Figure size 720x360 with 1 Axes>"
      ]
     },
     "metadata": {
      "needs_background": "light"
     },
     "output_type": "display_data"
    }
   ],
   "source": [
    "def visualise_dataset(dataset='METR_LA', postfix_path='../'):    \n",
    "    print(bcolors.OK + 'Dataset Name: ', dataset + bcolors.RESET)\n",
    "    \n",
    "    # path\n",
    "    path = postfix_path + 'raw_data/' + dataset + '/'\n",
    "    config_path = path + 'config.json'\n",
    "    dyna_path = path + dataset + '.dyna'\n",
    "    geo_path = path + dataset + '.geo'\n",
    "    rel_path = path + dataset + '.rel'\n",
    "    \n",
    "    # get data\n",
    "    geo_file = pd.read_csv(geo_path)\n",
    "    geo_ids = list(geo_file['geo_id'])\n",
    "    dyna_file = pd.read_csv(dyna_path)\n",
    "    rel_file = pd.read_csv(rel_path)\n",
    "    \n",
    "    print('{} geo_file size: {}'.format(dataset, geo_file.shape))\n",
    "    print('{} dyna_file size: {}'.format(dataset, dyna_file.shape))\n",
    "    print('{} rel_file size: {}'.format(dataset, rel_file.shape))\n",
    "    \n",
    "    coordinates = geo_file['coordinates'].apply(lambda x: x.strip('][').split(', '))\n",
    "    longitude = coordinates.map(lambda x: x[0])\n",
    "    latitude = coordinates.map(lambda x: x[1])\n",
    "    plt.figure(figsize=(10, 5))\n",
    "    plt.scatter(x=longitude, y=latitude)\n",
    "    ax = plt.gca()\n",
    "    ax.axes.xaxis.set_visible(False)\n",
    "    ax.axes.yaxis.set_visible(False)\n",
    "    plt.show()\n",
    "\n",
    "visualise_dataset('METR_LA', '../')"
   ]
  },
  {
   "cell_type": "code",
   "execution_count": 3,
   "metadata": {},
   "outputs": [
    {
     "name": "stdout",
     "output_type": "stream",
     "text": [
      "\u001b[92m\u001b[1mDataset Name:  PEMS_BAY\u001b[0m\n",
      "PEMS_BAY geo_file size: (325, 3)\n",
      "PEMS_BAY dyna_file size: (16937700, 5)\n",
      "PEMS_BAY rel_file size: (8358, 5)\n"
     ]
    },
    {
     "data": {
      "image/png": "[encoded data removed]",
      "text/plain": [
       "<Figure size 720x360 with 1 Axes>"
      ]
     },
     "metadata": {
      "needs_background": "light"
     },
     "output_type": "display_data"
    }
   ],
   "source": [
    "visualise_dataset('PEMS_BAY', '../')"
   ]
  }
 ],
 "metadata": {
  "kernelspec": {
   "display_name": "Python 3",
   "language": "python",
   "name": "python3"
  },
  "language_info": {
   "codemirror_mode": {
    "name": "ipython",
    "version": 3
   },
   "file_extension": ".py",
   "mimetype": "text/x-python",
   "name": "python",
   "nbconvert_exporter": "python",
   "pygments_lexer": "ipython3",
   "version": "3.7.9"
  }
 },
 "nbformat": 4,
 "nbformat_minor": 4
}
